{
 "cells": [
  {
   "cell_type": "markdown",
   "id": "e8aa0d0f",
   "metadata": {},
   "source": [
    "## Assignment 1"
   ]
  },
  {
   "cell_type": "code",
   "execution_count": 1,
   "id": "997ded5d",
   "metadata": {},
   "outputs": [
    {
     "name": "stdout",
     "output_type": "stream",
     "text": [
      "Collecting gensim\n",
      "  Downloading gensim-4.3.3-cp311-cp311-win_amd64.whl.metadata (8.2 kB)\n",
      "Requirement already satisfied: numpy<2.0,>=1.18.5 in c:\\users\\khushi shetty\\lib\\site-packages (from gensim) (1.26.4)\n",
      "Requirement already satisfied: scipy<1.14.0,>=1.7.0 in c:\\users\\khushi shetty\\lib\\site-packages (from gensim) (1.11.4)\n",
      "Requirement already satisfied: smart-open>=1.8.1 in c:\\users\\khushi shetty\\lib\\site-packages (from gensim) (7.1.0)\n",
      "Requirement already satisfied: wrapt in c:\\users\\khushi shetty\\lib\\site-packages (from smart-open>=1.8.1->gensim) (1.14.1)\n",
      "Downloading gensim-4.3.3-cp311-cp311-win_amd64.whl (24.0 MB)\n",
      "   ---------------------------------------- 0.0/24.0 MB ? eta -:--:--\n",
      "   ---------------------------------------- 0.0/24.0 MB ? eta -:--:--\n",
      "   ---------------------------------------- 0.3/24.0 MB ? eta -:--:--\n",
      "    --------------------------------------- 0.5/24.0 MB 1.4 MB/s eta 0:00:17\n",
      "   - -------------------------------------- 0.8/24.0 MB 1.4 MB/s eta 0:00:17\n",
      "   - -------------------------------------- 1.0/24.0 MB 1.4 MB/s eta 0:00:17\n",
      "   -- ------------------------------------- 1.3/24.0 MB 1.4 MB/s eta 0:00:17\n",
      "   -- ------------------------------------- 1.6/24.0 MB 1.3 MB/s eta 0:00:18\n",
      "   --- ------------------------------------ 1.8/24.0 MB 1.2 MB/s eta 0:00:19\n",
      "   --- ------------------------------------ 2.1/24.0 MB 1.2 MB/s eta 0:00:18\n",
      "   --- ------------------------------------ 2.4/24.0 MB 1.2 MB/s eta 0:00:18\n",
      "   ---- ----------------------------------- 2.6/24.0 MB 1.2 MB/s eta 0:00:18\n",
      "   ---- ----------------------------------- 2.6/24.0 MB 1.2 MB/s eta 0:00:18\n",
      "   ---- ----------------------------------- 2.9/24.0 MB 1.2 MB/s eta 0:00:19\n",
      "   ----- ---------------------------------- 3.1/24.0 MB 1.1 MB/s eta 0:00:19\n",
      "   ----- ---------------------------------- 3.4/24.0 MB 1.1 MB/s eta 0:00:19\n",
      "   ------ --------------------------------- 3.7/24.0 MB 1.1 MB/s eta 0:00:18\n",
      "   ------ --------------------------------- 3.9/24.0 MB 1.1 MB/s eta 0:00:18\n",
      "   ------ --------------------------------- 4.2/24.0 MB 1.1 MB/s eta 0:00:18\n",
      "   ------- -------------------------------- 4.5/24.0 MB 1.2 MB/s eta 0:00:17\n",
      "   ------- -------------------------------- 4.7/24.0 MB 1.2 MB/s eta 0:00:17\n",
      "   -------- ------------------------------- 5.0/24.0 MB 1.2 MB/s eta 0:00:17\n",
      "   -------- ------------------------------- 5.2/24.0 MB 1.2 MB/s eta 0:00:17\n",
      "   --------- ------------------------------ 5.5/24.0 MB 1.2 MB/s eta 0:00:17\n",
      "   --------- ------------------------------ 5.8/24.0 MB 1.2 MB/s eta 0:00:16\n",
      "   ---------- ----------------------------- 6.0/24.0 MB 1.2 MB/s eta 0:00:16\n",
      "   ---------- ----------------------------- 6.3/24.0 MB 1.2 MB/s eta 0:00:16\n",
      "   ---------- ----------------------------- 6.6/24.0 MB 1.2 MB/s eta 0:00:16\n",
      "   ----------- ---------------------------- 6.8/24.0 MB 1.2 MB/s eta 0:00:15\n",
      "   ----------- ---------------------------- 7.1/24.0 MB 1.2 MB/s eta 0:00:15\n",
      "   ------------ --------------------------- 7.3/24.0 MB 1.2 MB/s eta 0:00:15\n",
      "   ------------ --------------------------- 7.3/24.0 MB 1.2 MB/s eta 0:00:15\n",
      "   ------------ --------------------------- 7.6/24.0 MB 1.1 MB/s eta 0:00:15\n",
      "   ------------- -------------------------- 7.9/24.0 MB 1.1 MB/s eta 0:00:15\n",
      "   ------------- -------------------------- 7.9/24.0 MB 1.1 MB/s eta 0:00:15\n",
      "   ------------- -------------------------- 8.1/24.0 MB 1.1 MB/s eta 0:00:15\n",
      "   ------------- -------------------------- 8.4/24.0 MB 1.1 MB/s eta 0:00:15\n",
      "   -------------- ------------------------- 8.7/24.0 MB 1.1 MB/s eta 0:00:14\n",
      "   -------------- ------------------------- 8.9/24.0 MB 1.1 MB/s eta 0:00:14\n",
      "   --------------- ------------------------ 9.2/24.0 MB 1.1 MB/s eta 0:00:14\n",
      "   --------------- ------------------------ 9.4/24.0 MB 1.1 MB/s eta 0:00:13\n",
      "   ---------------- ----------------------- 10.0/24.0 MB 1.2 MB/s eta 0:00:13\n",
      "   ----------------- ---------------------- 10.2/24.0 MB 1.2 MB/s eta 0:00:12\n",
      "   ----------------- ---------------------- 10.5/24.0 MB 1.2 MB/s eta 0:00:12\n",
      "   ----------------- ---------------------- 10.7/24.0 MB 1.2 MB/s eta 0:00:12\n",
      "   ------------------ --------------------- 11.0/24.0 MB 1.2 MB/s eta 0:00:12\n",
      "   ------------------ --------------------- 11.3/24.0 MB 1.2 MB/s eta 0:00:11\n",
      "   ------------------ --------------------- 11.3/24.0 MB 1.2 MB/s eta 0:00:11\n",
      "   ------------------- -------------------- 11.5/24.0 MB 1.2 MB/s eta 0:00:11\n",
      "   ------------------- -------------------- 11.5/24.0 MB 1.2 MB/s eta 0:00:11\n",
      "   ------------------- -------------------- 11.8/24.0 MB 1.1 MB/s eta 0:00:11\n",
      "   -------------------- ------------------- 12.3/24.0 MB 1.1 MB/s eta 0:00:11\n",
      "   -------------------- ------------------- 12.6/24.0 MB 1.1 MB/s eta 0:00:10\n",
      "   --------------------- ------------------ 12.8/24.0 MB 1.1 MB/s eta 0:00:10\n",
      "   --------------------- ------------------ 12.8/24.0 MB 1.1 MB/s eta 0:00:10\n",
      "   --------------------- ------------------ 13.1/24.0 MB 1.1 MB/s eta 0:00:10\n",
      "   ---------------------- ----------------- 13.4/24.0 MB 1.1 MB/s eta 0:00:10\n",
      "   ---------------------- ----------------- 13.4/24.0 MB 1.1 MB/s eta 0:00:10\n",
      "   ---------------------- ----------------- 13.4/24.0 MB 1.1 MB/s eta 0:00:10\n",
      "   ---------------------- ----------------- 13.6/24.0 MB 1.1 MB/s eta 0:00:10\n",
      "   ----------------------- ---------------- 13.9/24.0 MB 1.1 MB/s eta 0:00:10\n",
      "   ----------------------- ---------------- 14.2/24.0 MB 1.1 MB/s eta 0:00:09\n",
      "   ----------------------- ---------------- 14.2/24.0 MB 1.1 MB/s eta 0:00:09\n",
      "   ------------------------ --------------- 14.4/24.0 MB 1.1 MB/s eta 0:00:09\n",
      "   ------------------------ --------------- 14.7/24.0 MB 1.1 MB/s eta 0:00:09\n",
      "   ------------------------ --------------- 14.9/24.0 MB 1.1 MB/s eta 0:00:09\n",
      "   ------------------------- -------------- 15.2/24.0 MB 1.1 MB/s eta 0:00:09\n",
      "   ------------------------- -------------- 15.5/24.0 MB 1.1 MB/s eta 0:00:08\n",
      "   -------------------------- ------------- 15.7/24.0 MB 1.1 MB/s eta 0:00:08\n",
      "   -------------------------- ------------- 16.0/24.0 MB 1.1 MB/s eta 0:00:08\n",
      "   --------------------------- ------------ 16.3/24.0 MB 1.1 MB/s eta 0:00:08\n",
      "   --------------------------- ------------ 16.5/24.0 MB 1.1 MB/s eta 0:00:07\n",
      "   --------------------------- ------------ 16.5/24.0 MB 1.1 MB/s eta 0:00:07\n",
      "   --------------------------- ------------ 16.8/24.0 MB 1.1 MB/s eta 0:00:07\n",
      "   --------------------------- ------------ 16.8/24.0 MB 1.1 MB/s eta 0:00:07\n",
      "   ---------------------------- ----------- 17.0/24.0 MB 1.1 MB/s eta 0:00:07\n",
      "   ---------------------------- ----------- 17.3/24.0 MB 1.1 MB/s eta 0:00:07\n",
      "   ----------------------------- ---------- 17.6/24.0 MB 1.1 MB/s eta 0:00:06\n",
      "   ----------------------------- ---------- 17.6/24.0 MB 1.1 MB/s eta 0:00:06\n",
      "   ------------------------------ --------- 18.1/24.0 MB 1.1 MB/s eta 0:00:06\n",
      "   ------------------------------ --------- 18.4/24.0 MB 1.1 MB/s eta 0:00:06\n",
      "   ------------------------------ --------- 18.4/24.0 MB 1.1 MB/s eta 0:00:06\n",
      "   ------------------------------- -------- 18.6/24.0 MB 1.1 MB/s eta 0:00:06\n",
      "   ------------------------------- -------- 18.9/24.0 MB 1.1 MB/s eta 0:00:05\n",
      "   ------------------------------- -------- 19.1/24.0 MB 1.1 MB/s eta 0:00:05\n",
      "   -------------------------------- ------- 19.7/24.0 MB 1.1 MB/s eta 0:00:04\n",
      "   --------------------------------- ------ 19.9/24.0 MB 1.1 MB/s eta 0:00:04\n",
      "   --------------------------------- ------ 20.2/24.0 MB 1.1 MB/s eta 0:00:04\n",
      "   ---------------------------------- ----- 20.4/24.0 MB 1.1 MB/s eta 0:00:04\n",
      "   ---------------------------------- ----- 20.7/24.0 MB 1.1 MB/s eta 0:00:04\n",
      "   ---------------------------------- ----- 21.0/24.0 MB 1.1 MB/s eta 0:00:03\n",
      "   ----------------------------------- ---- 21.2/24.0 MB 1.1 MB/s eta 0:00:03\n",
      "   ----------------------------------- ---- 21.5/24.0 MB 1.1 MB/s eta 0:00:03\n",
      "   ------------------------------------ --- 21.8/24.0 MB 1.1 MB/s eta 0:00:03\n",
      "   ------------------------------------ --- 22.0/24.0 MB 1.1 MB/s eta 0:00:02\n",
      "   ------------------------------------- -- 22.3/24.0 MB 1.1 MB/s eta 0:00:02\n",
      "   ------------------------------------- -- 22.8/24.0 MB 1.1 MB/s eta 0:00:02\n",
      "   ------------------------------------- -- 22.8/24.0 MB 1.1 MB/s eta 0:00:02\n",
      "   -------------------------------------- - 23.1/24.0 MB 1.1 MB/s eta 0:00:01\n",
      "   -------------------------------------- - 23.3/24.0 MB 1.1 MB/s eta 0:00:01\n",
      "   -------------------------------------- - 23.3/24.0 MB 1.1 MB/s eta 0:00:01\n",
      "   ---------------------------------------  23.6/24.0 MB 1.1 MB/s eta 0:00:01\n",
      "   ---------------------------------------  23.9/24.0 MB 1.1 MB/s eta 0:00:01\n",
      "   ---------------------------------------  23.9/24.0 MB 1.1 MB/s eta 0:00:01\n",
      "   ---------------------------------------- 24.0/24.0 MB 1.1 MB/s eta 0:00:00\n",
      "Installing collected packages: gensim\n",
      "Successfully installed gensim-4.3.3\n"
     ]
    },
    {
     "name": "stderr",
     "output_type": "stream",
     "text": [
      "DEPRECATION: Loading egg at c:\\users\\khushi shetty\\lib\\site-packages\\vboxapi-1.0-py3.11.egg is deprecated. pip 25.1 will enforce this behaviour change. A possible replacement is to use pip for package installation. Discussion can be found at https://github.com/pypa/pip/issues/12330\n",
      "\n",
      "[notice] A new release of pip is available: 25.0.1 -> 25.1.1\n",
      "[notice] To update, run: python.exe -m pip install --upgrade pip\n"
     ]
    }
   ],
   "source": [
    "!pip install gensim"
   ]
  },
  {
   "cell_type": "code",
   "execution_count": 2,
   "id": "54ada230",
   "metadata": {},
   "outputs": [
    {
     "name": "stdout",
     "output_type": "stream",
     "text": [
      "Requirement already satisfied: sentence-transformers in c:\\users\\khushi shetty\\lib\\site-packages (4.0.1)\n",
      "Collecting sentence-transformers\n",
      "  Downloading sentence_transformers-5.0.0-py3-none-any.whl.metadata (16 kB)\n",
      "Requirement already satisfied: transformers<5.0.0,>=4.41.0 in c:\\users\\khushi shetty\\lib\\site-packages (from sentence-transformers) (4.50.0)\n",
      "Requirement already satisfied: tqdm in c:\\users\\khushi shetty\\lib\\site-packages (from sentence-transformers) (4.66.5)\n",
      "Requirement already satisfied: torch>=1.11.0 in c:\\users\\khushi shetty\\lib\\site-packages (from sentence-transformers) (2.4.1)\n",
      "Requirement already satisfied: scikit-learn in c:\\users\\khushi shetty\\lib\\site-packages (from sentence-transformers) (1.4.0)\n",
      "Requirement already satisfied: scipy in c:\\users\\khushi shetty\\lib\\site-packages (from sentence-transformers) (1.11.4)\n",
      "Requirement already satisfied: huggingface-hub>=0.20.0 in c:\\users\\khushi shetty\\lib\\site-packages (from sentence-transformers) (0.29.3)\n",
      "Requirement already satisfied: Pillow in c:\\users\\khushi shetty\\lib\\site-packages (from sentence-transformers) (10.1.0)\n",
      "Requirement already satisfied: typing_extensions>=4.5.0 in c:\\users\\khushi shetty\\lib\\site-packages (from sentence-transformers) (4.12.2)\n",
      "Requirement already satisfied: filelock in c:\\users\\khushi shetty\\lib\\site-packages (from huggingface-hub>=0.20.0->sentence-transformers) (3.15.4)\n",
      "Requirement already satisfied: fsspec>=2023.5.0 in c:\\users\\khushi shetty\\lib\\site-packages (from huggingface-hub>=0.20.0->sentence-transformers) (2024.9.0)\n",
      "Requirement already satisfied: packaging>=20.9 in c:\\users\\khushi shetty\\lib\\site-packages (from huggingface-hub>=0.20.0->sentence-transformers) (24.2)\n",
      "Requirement already satisfied: pyyaml>=5.1 in c:\\users\\khushi shetty\\lib\\site-packages (from huggingface-hub>=0.20.0->sentence-transformers) (6.0)\n",
      "Requirement already satisfied: requests in c:\\users\\khushi shetty\\lib\\site-packages (from huggingface-hub>=0.20.0->sentence-transformers) (2.32.3)\n",
      "Requirement already satisfied: sympy in c:\\users\\khushi shetty\\lib\\site-packages (from torch>=1.11.0->sentence-transformers) (1.13.2)\n",
      "Requirement already satisfied: networkx in c:\\users\\khushi shetty\\lib\\site-packages (from torch>=1.11.0->sentence-transformers) (3.3)\n",
      "Requirement already satisfied: jinja2 in c:\\users\\khushi shetty\\lib\\site-packages (from torch>=1.11.0->sentence-transformers) (3.1.2)\n",
      "Requirement already satisfied: colorama in c:\\users\\khushi shetty\\lib\\site-packages (from tqdm->sentence-transformers) (0.4.6)\n",
      "Requirement already satisfied: numpy>=1.17 in c:\\users\\khushi shetty\\lib\\site-packages (from transformers<5.0.0,>=4.41.0->sentence-transformers) (1.26.4)\n",
      "Requirement already satisfied: regex!=2019.12.17 in c:\\users\\khushi shetty\\lib\\site-packages (from transformers<5.0.0,>=4.41.0->sentence-transformers) (2024.11.6)\n",
      "Requirement already satisfied: tokenizers<0.22,>=0.21 in c:\\users\\khushi shetty\\lib\\site-packages (from transformers<5.0.0,>=4.41.0->sentence-transformers) (0.21.1)\n",
      "Requirement already satisfied: safetensors>=0.4.3 in c:\\users\\khushi shetty\\lib\\site-packages (from transformers<5.0.0,>=4.41.0->sentence-transformers) (0.5.3)\n",
      "Requirement already satisfied: joblib>=1.2.0 in c:\\users\\khushi shetty\\lib\\site-packages (from scikit-learn->sentence-transformers) (1.3.2)\n",
      "Requirement already satisfied: threadpoolctl>=2.0.0 in c:\\users\\khushi shetty\\lib\\site-packages (from scikit-learn->sentence-transformers) (3.2.0)\n",
      "Requirement already satisfied: MarkupSafe>=2.0 in c:\\users\\khushi shetty\\lib\\site-packages (from jinja2->torch>=1.11.0->sentence-transformers) (2.1.2)\n",
      "Requirement already satisfied: charset-normalizer<4,>=2 in c:\\users\\khushi shetty\\lib\\site-packages (from requests->huggingface-hub>=0.20.0->sentence-transformers) (3.3.2)\n",
      "Requirement already satisfied: idna<4,>=2.5 in c:\\users\\khushi shetty\\lib\\site-packages (from requests->huggingface-hub>=0.20.0->sentence-transformers) (3.4)\n",
      "Requirement already satisfied: urllib3<3,>=1.21.1 in c:\\users\\khushi shetty\\lib\\site-packages (from requests->huggingface-hub>=0.20.0->sentence-transformers) (2.5.0)\n",
      "Requirement already satisfied: certifi>=2017.4.17 in c:\\users\\khushi shetty\\lib\\site-packages (from requests->huggingface-hub>=0.20.0->sentence-transformers) (2024.2.2)\n",
      "Requirement already satisfied: mpmath<1.4,>=1.1.0 in c:\\users\\khushi shetty\\lib\\site-packages (from sympy->torch>=1.11.0->sentence-transformers) (1.3.0)\n",
      "Downloading sentence_transformers-5.0.0-py3-none-any.whl (470 kB)\n",
      "Installing collected packages: sentence-transformers\n",
      "  Attempting uninstall: sentence-transformers\n",
      "    Found existing installation: sentence-transformers 4.0.1\n",
      "    Uninstalling sentence-transformers-4.0.1:\n",
      "      Successfully uninstalled sentence-transformers-4.0.1\n",
      "Successfully installed sentence-transformers-5.0.0\n"
     ]
    },
    {
     "name": "stderr",
     "output_type": "stream",
     "text": [
      "DEPRECATION: Loading egg at c:\\users\\khushi shetty\\lib\\site-packages\\vboxapi-1.0-py3.11.egg is deprecated. pip 25.1 will enforce this behaviour change. A possible replacement is to use pip for package installation. Discussion can be found at https://github.com/pypa/pip/issues/12330\n",
      "\n",
      "[notice] A new release of pip is available: 25.0.1 -> 25.1.1\n",
      "[notice] To update, run: python.exe -m pip install --upgrade pip\n"
     ]
    }
   ],
   "source": [
    "!pip install -U sentence-transformers"
   ]
  },
  {
   "cell_type": "code",
   "execution_count": null,
   "id": "13ef33ce",
   "metadata": {},
   "outputs": [],
   "source": [
    "# too big and slow\n",
    "from sentence_transformers import SentenceTransformer, util\n",
    "\n",
    "# Load the GTE-large model\n",
    "model = SentenceTransformer('thenlper/gte-large')\n",
    "\n",
    "# Example sentences\n",
    "sentences = [\n",
    "    \"Lewis Hamilton is a Formula 1 driver.\",\n",
    "    \"Max Verstappen races in F1.\",\n",
    "    \"The Mona Lisa is a famous painting.\"\n",
    "]\n",
    "\n",
    "# Create embeddings\n",
    "embeddings = model.encode(sentences)\n",
    "\n",
    "# Compute pairwise similarities\n",
    "similarity = util.cos_sim(embeddings[0], embeddings[1])\n",
    "print(f\"Similarity between sentence 1 and 2: {similarity.item():.4f}\")\n"
   ]
  },
  {
   "cell_type": "markdown",
   "id": "f7b93e80",
   "metadata": {},
   "source": [
    "# part 1"
   ]
  },
  {
   "cell_type": "code",
   "execution_count": 6,
   "id": "2bee93ed",
   "metadata": {},
   "outputs": [
    {
     "name": "stdout",
     "output_type": "stream",
     "text": [
      "['fasttext-wiki-news-subwords-300', 'conceptnet-numberbatch-17-06-300', 'word2vec-ruscorpora-300', 'word2vec-google-news-300', 'glove-wiki-gigaword-50', 'glove-wiki-gigaword-100', 'glove-wiki-gigaword-200', 'glove-wiki-gigaword-300', 'glove-twitter-25', 'glove-twitter-50', 'glove-twitter-100', 'glove-twitter-200', '__testing_word2vec-matrix-synopsis']\n",
      "[==================================================] 100.0% 128.1/128.1MB downloaded\n"
     ]
    }
   ],
   "source": [
    "import gensim.downloader as api\n",
    "\n",
    "# List available models to pick one (optional)\n",
    "print(list(api.info()['models'].keys()))\n",
    "\n",
    "# Load a Word2Vec embedding; 'glove-wiki-gigaword-100' is reliable and lightweight\n",
    "wv_pretrained = api.load(\"glove-wiki-gigaword-100\")\n"
   ]
  },
  {
   "cell_type": "code",
   "execution_count": 8,
   "id": "7cc7f829",
   "metadata": {},
   "outputs": [
    {
     "name": "stdout",
     "output_type": "stream",
     "text": [
      "\n",
      "Most similar words to 'race':\n",
      "  races: 0.866\n",
      "  event: 0.703\n",
      "  racing: 0.683\n",
      "  winning: 0.671\n",
      "  contest: 0.668\n",
      "\n",
      "Most similar words to 'driver':\n",
      "  car: 0.819\n",
      "  drivers: 0.809\n",
      "  driving: 0.742\n",
      "  truck: 0.730\n",
      "  taxi: 0.716\n",
      "\n",
      "Most similar words to 'championship':\n",
      "  tournament: 0.829\n",
      "  championships: 0.805\n",
      "  finals: 0.801\n",
      "  champions: 0.795\n",
      "  cup: 0.783\n",
      "\n",
      "Most similar words to 'pit':\n",
      "  pits: 0.747\n",
      "  shaft: 0.644\n",
      "  dirt: 0.621\n",
      "  mine: 0.591\n",
      "  gravel: 0.581\n",
      "\n",
      "Most similar words to 'team':\n",
      "  teams: 0.852\n",
      "  squad: 0.785\n",
      "  football: 0.772\n",
      "  players: 0.766\n",
      "  coach: 0.765\n"
     ]
    }
   ],
   "source": [
    "words = ['race', 'driver', 'championship', 'pit', 'team']\n",
    "\n",
    "for word in words:\n",
    "    print(f\"\\nMost similar words to '{word}':\")\n",
    "    try:\n",
    "        for sim_word, score in wv_pretrained.most_similar(word, topn=5):\n",
    "            print(f\"  {sim_word}: {score:.3f}\")\n",
    "    except KeyError:\n",
    "        print(f\"  '{word}' not found in the model vocabulary.\")\n"
   ]
  },
  {
   "cell_type": "code",
   "execution_count": 12,
   "id": "92936bd5",
   "metadata": {},
   "outputs": [
    {
     "name": "stdout",
     "output_type": "stream",
     "text": [
      "fly - bird + airplane: [('plane', 0.7340909838676453), ('airplanes', 0.7079340219497681), ('planes', 0.6979356408119202)]\n"
     ]
    }
   ],
   "source": [
    "#Example 1\n",
    "analogy1 = wv_pretrained.most_similar(positive=['fly', 'airplane'], negative=['bird'])\n",
    "print(\"fly - bird + airplane:\", analogy1[:3])"
   ]
  },
  {
   "cell_type": "markdown",
   "id": "cd1ab7a3",
   "metadata": {},
   "source": [
    "# part 2"
   ]
  },
  {
   "cell_type": "code",
   "execution_count": 13,
   "id": "1ed33eb3",
   "metadata": {},
   "outputs": [
    {
     "name": "stderr",
     "output_type": "stream",
     "text": [
      "[nltk_data] Downloading package punkt to C:\\Users\\khushi\n",
      "[nltk_data]     shetty\\AppData\\Roaming\\nltk_data...\n",
      "[nltk_data]   Package punkt is already up-to-date!\n",
      "[nltk_data] Downloading package stopwords to C:\\Users\\khushi\n",
      "[nltk_data]     shetty\\AppData\\Roaming\\nltk_data...\n",
      "[nltk_data]   Package stopwords is already up-to-date!\n"
     ]
    },
    {
     "name": "stdout",
     "output_type": "stream",
     "text": [
      "                                              review sentiment\n",
      "0  One of the other reviewers has mentioned that ...  positive\n",
      "1  A wonderful little production. <br /><br />The...  positive\n",
      "2  I thought this was a wonderful way to spend ti...  positive\n",
      "3  Basically there's a family where a little boy ...  negative\n",
      "4  Petter Mattei's \"Love in the Time of Money\" is...  positive\n",
      "sentiment\n",
      "positive    25000\n",
      "negative    25000\n",
      "Name: count, dtype: int64\n"
     ]
    }
   ],
   "source": [
    "# Step 0: Imports and Data Load\n",
    "import pandas as pd\n",
    "import numpy as np\n",
    "import re\n",
    "import string\n",
    "from sklearn.model_selection import train_test_split\n",
    "from sklearn.linear_model import LogisticRegression\n",
    "from sklearn.metrics import accuracy_score, precision_recall_fscore_support\n",
    "from gensim.models import Word2Vec, FastText\n",
    "import gensim.downloader as api\n",
    "from nltk.corpus import stopwords\n",
    "from nltk.tokenize import word_tokenize\n",
    "import nltk\n",
    "nltk.download('punkt')\n",
    "nltk.download('stopwords')\n",
    "\n",
    "# Load the data\n",
    "df = pd.read_csv('IMDB Dataset.csv')\n",
    "print(df.head())\n",
    "print(df['sentiment'].value_counts())\n"
   ]
  },
  {
   "cell_type": "code",
   "execution_count": 14,
   "id": "d92a7565",
   "metadata": {},
   "outputs": [
    {
     "name": "stdout",
     "output_type": "stream",
     "text": [
      "count    50000.000000\n",
      "mean       231.156940\n",
      "std        171.343997\n",
      "min          4.000000\n",
      "25%        126.000000\n",
      "50%        173.000000\n",
      "75%        280.000000\n",
      "max       2470.000000\n",
      "Name: review_length, dtype: float64\n"
     ]
    },
    {
     "data": {
      "text/plain": [
       "<Axes: title={'center': 'Sentiment Distribution'}, xlabel='sentiment'>"
      ]
     },
     "execution_count": 14,
     "metadata": {},
     "output_type": "execute_result"
    },
    {
     "data": {
      "image/png": "[encoded data removed]",
      "text/plain": [
       "<Figure size 640x480 with 1 Axes>"
      ]
     },
     "metadata": {},
     "output_type": "display_data"
    }
   ],
   "source": [
    "df['review_length'] = df['review'].apply(lambda x: len(x.split()))\n",
    "print(df['review_length'].describe())\n",
    "df['sentiment'].value_counts().plot(kind='bar', title=\"Sentiment Distribution\")"
   ]
  },
  {
   "cell_type": "code",
   "execution_count": 23,
   "id": "8ef9a75b",
   "metadata": {},
   "outputs": [
    {
     "name": "stderr",
     "output_type": "stream",
     "text": [
      "[nltk_data] Downloading package punkt to C:\\Users\\khushi\n",
      "[nltk_data]     shetty\\AppData\\Roaming\\nltk_data...\n",
      "[nltk_data]   Package punkt is already up-to-date!\n",
      "[nltk_data] Downloading package stopwords to C:\\Users\\khushi\n",
      "[nltk_data]     shetty\\AppData\\Roaming\\nltk_data...\n",
      "[nltk_data]   Package stopwords is already up-to-date!\n"
     ]
    },
    {
     "name": "stdout",
     "output_type": "stream",
     "text": [
      "0    [one, reviewers, mentioned, watching, oz, epis...\n",
      "1    [wonderful, little, production, filming, techn...\n",
      "2    [thought, wonderful, way, spend, time, hot, su...\n",
      "3    [basically, theres, family, little, boy, jake,...\n",
      "4    [petter, matteis, love, time, money, visually,...\n",
      "Name: tokens, dtype: object\n"
     ]
    }
   ],
   "source": [
    "import nltk\n",
    "nltk.download('punkt')\n",
    "nltk.download('stopwords')\n",
    "\n",
    "import re\n",
    "import string\n",
    "from nltk.corpus import stopwords\n",
    "from nltk.tokenize import word_tokenize\n",
    "\n",
    "stop_words = set(stopwords.words('english'))\n",
    "\n",
    "def clean_text(text):\n",
    "    # Lowercase\n",
    "    text = text.lower()\n",
    "    # Remove HTML tags\n",
    "    text = re.sub(r'<.*?>', '', text)\n",
    "    # Remove punctuation\n",
    "    text = text.translate(str.maketrans('', '', string.punctuation))\n",
    "    # Tokenize\n",
    "    tokens = word_tokenize(text)\n",
    "    # Remove stopwords and non-alpha tokens\n",
    "    tokens = [t for t in tokens if t.isalpha() and t not in stop_words]\n",
    "    return tokens\n",
    "\n",
    "df['tokens'] = df['review'].apply(clean_text)\n",
    "print(df['tokens'].head())\n"
   ]
  },
  {
   "cell_type": "markdown",
   "id": "a19752ad",
   "metadata": {},
   "source": [
    "## fixing nltk"
   ]
  },
  {
   "cell_type": "code",
   "execution_count": 18,
   "id": "6a28d1f6",
   "metadata": {},
   "outputs": [
    {
     "name": "stdout",
     "output_type": "stream",
     "text": [
      "3.9.1\n"
     ]
    }
   ],
   "source": [
    "import nltk\n",
    "print(nltk.__version__)\n"
   ]
  },
  {
   "cell_type": "code",
   "execution_count": 19,
   "id": "507dab82",
   "metadata": {},
   "outputs": [
    {
     "name": "stderr",
     "output_type": "stream",
     "text": [
      "[nltk_data] Downloading package punkt to ./nltk_data...\n",
      "[nltk_data]   Unzipping tokenizers\\punkt.zip.\n",
      "[nltk_data] Downloading package stopwords to ./nltk_data...\n",
      "[nltk_data]   Unzipping corpora\\stopwords.zip.\n"
     ]
    }
   ],
   "source": [
    "import os\n",
    "os.environ.pop('NLTK_DATA', None)  # Remove it if already set\n",
    "import nltk\n",
    "nltk.download('punkt', download_dir='./nltk_data')\n",
    "nltk.download('stopwords', download_dir='./nltk_data')\n",
    "os.environ['NLTK_DATA'] = './nltk_data'\n"
   ]
  },
  {
   "cell_type": "code",
   "execution_count": 21,
   "id": "63ec62f4",
   "metadata": {},
   "outputs": [
    {
     "name": "stderr",
     "output_type": "stream",
     "text": [
      "[nltk_data] Downloading package punkt_tab to C:\\Users\\khushi\n",
      "[nltk_data]     shetty\\AppData\\Roaming\\nltk_data...\n",
      "[nltk_data]   Unzipping tokenizers\\punkt_tab.zip.\n"
     ]
    },
    {
     "data": {
      "text/plain": [
       "True"
      ]
     },
     "execution_count": 21,
     "metadata": {},
     "output_type": "execute_result"
    }
   ],
   "source": [
    "import nltk\n",
    "nltk.download('punkt_tab')\n"
   ]
  },
  {
   "cell_type": "code",
   "execution_count": 22,
   "id": "5923275f",
   "metadata": {},
   "outputs": [
    {
     "name": "stdout",
     "output_type": "stream",
     "text": [
      "['Testing', 'if', 'the', 'punkt', 'tokenizer', 'works', 'now', '!']\n"
     ]
    }
   ],
   "source": [
    "from nltk.tokenize import word_tokenize\n",
    "print(word_tokenize(\"Testing if the punkt tokenizer works now!\"))"
   ]
  },
  {
   "cell_type": "markdown",
   "id": "af187f12",
   "metadata": {},
   "source": [
    "done"
   ]
  },
  {
   "cell_type": "code",
   "execution_count": 24,
   "id": "2c9f4d28",
   "metadata": {},
   "outputs": [],
   "source": [
    "X = df['tokens']\n",
    "y = df['sentiment'].map({'positive':1, 'negative':0})\n",
    "\n",
    "X_train, X_test, y_train, y_test = train_test_split(X, y, test_size=0.2, random_state=42)\n"
   ]
  },
  {
   "cell_type": "code",
   "execution_count": 25,
   "id": "bccf86d1",
   "metadata": {},
   "outputs": [],
   "source": [
    "def get_review_vector(tokens, model, vector_size):\n",
    "    vecs = [model[w] for w in tokens if w in model]\n",
    "    if not vecs:\n",
    "        return np.zeros(vector_size)\n",
    "    return np.mean(vecs, axis=0)\n"
   ]
  },
  {
   "cell_type": "code",
   "execution_count": 26,
   "id": "74b8151c",
   "metadata": {},
   "outputs": [],
   "source": [
    "#pre trained \n",
    "wv = api.load(\"glove-wiki-gigaword-100\")  # Or try 'word2vec-google-news-300'\n",
    "\n",
    "X_train_wv = np.vstack([get_review_vector(x, wv, 100) for x in X_train])\n",
    "X_test_wv  = np.vstack([get_review_vector(x, wv, 100) for x in X_test])\n"
   ]
  },
  {
   "cell_type": "code",
   "execution_count": 27,
   "id": "88c3617e",
   "metadata": {},
   "outputs": [],
   "source": [
    "#Custom Skip-gram Word2Vec\n",
    "skipgram_model = Word2Vec(sentences=X_train, vector_size=100, window=5, min_count=2, sg=1, epochs=5)\n",
    "X_train_sg = np.vstack([get_review_vector(x, skipgram_model.wv, 100) for x in X_train])\n",
    "X_test_sg  = np.vstack([get_review_vector(x, skipgram_model.wv, 100) for x in X_test])"
   ]
  },
  {
   "cell_type": "code",
   "execution_count": 28,
   "id": "1cec039e",
   "metadata": {},
   "outputs": [],
   "source": [
    "#Custom CBOW Word2Vec\n",
    "cbow_model = Word2Vec(sentences=X_train, vector_size=100, window=5, min_count=2, sg=0, epochs=5)\n",
    "X_train_cbow = np.vstack([get_review_vector(x, cbow_model.wv, 100) for x in X_train])\n",
    "X_test_cbow  = np.vstack([get_review_vector(x, cbow_model.wv, 100) for x in X_test])"
   ]
  },
  {
   "cell_type": "code",
   "execution_count": 29,
   "id": "ee6f5f27",
   "metadata": {},
   "outputs": [],
   "source": [
    "#Custom FastText\n",
    "ft_model = FastText(sentences=X_train, vector_size=100, window=5, min_count=2, epochs=5)\n",
    "X_train_ft = np.vstack([get_review_vector(x, ft_model.wv, 100) for x in X_train])\n",
    "X_test_ft  = np.vstack([get_review_vector(x, ft_model.wv, 100) for x in X_test])"
   ]
  },
  {
   "cell_type": "code",
   "execution_count": 30,
   "id": "e6f94dfa",
   "metadata": {},
   "outputs": [],
   "source": [
    "#training and eval\n",
    "def eval_model(X_train, X_test, y_train, y_test):\n",
    "    clf = LogisticRegression(max_iter=200)\n",
    "    clf.fit(X_train, y_train)\n",
    "    y_pred = clf.predict(X_test)\n",
    "    acc = accuracy_score(y_test, y_pred)\n",
    "    pr, rc, f1, _ = precision_recall_fscore_support(y_test, y_pred, average=\"binary\")\n",
    "    return acc, pr, rc, f1\n",
    "\n",
    "results = {}\n",
    "results['Pre-trained W2V'] = eval_model(X_train_wv, X_test_wv, y_train, y_test)\n",
    "results['Skip-gram']        = eval_model(X_train_sg, X_test_sg, y_train, y_test)\n",
    "results['CBOW']             = eval_model(X_train_cbow, X_test_cbow, y_train, y_test)\n",
    "results['FastText']         = eval_model(X_train_ft, X_test_ft, y_train, y_test)\n"
   ]
  },
  {
   "cell_type": "code",
   "execution_count": 31,
   "id": "6c52a529",
   "metadata": {},
   "outputs": [
    {
     "name": "stdout",
     "output_type": "stream",
     "text": [
      "                 Accuracy  Precision    Recall        F1\n",
      "Pre-trained W2V    0.7992   0.801832  0.798968  0.800398\n",
      "Skip-gram          0.8700   0.865065  0.879143  0.872047\n",
      "CBOW               0.8550   0.848650  0.866839  0.857648\n",
      "FastText           0.8400   0.837753  0.846398  0.842053\n"
     ]
    }
   ],
   "source": [
    "#results\n",
    "results_table = pd.DataFrame(results, index=[\"Accuracy\", \"Precision\", \"Recall\", \"F1\"]).T\n",
    "print(results_table)\n"
   ]
  },
  {
   "cell_type": "code",
   "execution_count": null,
   "id": "355f626f",
   "metadata": {},
   "outputs": [],
   "source": []
  }
 ],
 "metadata": {
  "kernelspec": {
   "display_name": "Python 3",
   "language": "python",
   "name": "python3"
  },
  "language_info": {
   "codemirror_mode": {
    "name": "ipython",
    "version": 3
   },
   "file_extension": ".py",
   "mimetype": "text/x-python",
   "name": "python",
   "nbconvert_exporter": "python",
   "pygments_lexer": "ipython3",
   "version": "3.11.1"
  }
 },
 "nbformat": 4,
 "nbformat_minor": 5
}
